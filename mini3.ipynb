{
 "cells": [
  {
   "cell_type": "markdown",
   "metadata": {},
   "source": [
    "1 servidor "
   ]
  },
  {
   "cell_type": "code",
   "execution_count": 19,
   "metadata": {},
   "outputs": [],
   "source": [
    "from time import time\n",
    "from random import random\n",
    "from math import log\n",
    "#generar Ts\n",
    "def generar_Ts(s, lambda_max):\n",
    "    return s - (1/lambda_max) * log(random())\n",
    "\n",
    "#inicializacion\n",
    "t = Arrivals = Departures = n = 0\n",
    "T0 = time()\n",
    "ta = T0\n",
    "Tiempo_final = T0 + 60.0\n",
    "td = float('inf')\n",
    "tiempos_llegada = []\n",
    "tiempos_salida = []\n",
    "while True:\n",
    "    #casos\n",
    "    if ta <= td and ta <= Tiempo_final:\n",
    "        t = ta\n",
    "        Arrivals += 1\n",
    "        n += 1\n",
    "        Tx = generar_Ts(t, 2400)\n",
    "        ta = Tx\n",
    "        if n == 1:\n",
    "            #Y = generar_Y()\n",
    "            td = t + Y\n",
    "        tiempos_llegada.append(t)    \n",
    "    elif td < ta and td <= T:\n",
    "        t = td\n",
    "        n = n - 1\n",
    "        Nd = Nd + 1\n",
    "        if n == 0:\n",
    "            td = float(\"inf\")\n",
    "        else:\n",
    "            #Y = generar_Y()\n",
    "            td = t + Y\n",
    "        tiempos_salida.append(t)\n",
    "    elif min(ta, td) > T and n > 0:\n",
    "        t = td\n",
    "        n = n - 1\n",
    "        Nd = Nd + 1\n",
    "        if n > 0:\n",
    "            #Y = generar_Y()\n",
    "            td = t + Y\n",
    "        tiempos_salid.append(t)\n",
    "    elif min(ta, td) > T, n = 0:\n",
    "        Tp = max(t -Tiempo_final,0)\n",
    "        break\n",
    "        \n"
   ]
  }
 ],
 "metadata": {
  "kernelspec": {
   "display_name": "Python 3",
   "language": "python",
   "name": "python3"
  },
  "language_info": {
   "codemirror_mode": {
    "name": "ipython",
    "version": 3
   },
   "file_extension": ".py",
   "mimetype": "text/x-python",
   "name": "python",
   "nbconvert_exporter": "python",
   "pygments_lexer": "ipython3",
   "version": "3.7.1"
  }
 },
 "nbformat": 4,
 "nbformat_minor": 2
}
