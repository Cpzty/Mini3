{
 "cells": [
  {
   "cell_type": "markdown",
   "metadata": {},
   "source": [
    "1 servidor "
   ]
  },
  {
   "cell_type": "code",
   "execution_count": 65,
   "metadata": {},
   "outputs": [
    {
     "name": "stdout",
     "output_type": "stream",
     "text": [
      "Arrivals: 144049\n",
      "Departures: 144049\n",
      "Tiempo: 26147474.98547419 horas\n",
      "Tiempo desocupado: 0.0004165172576904297\n",
      "Tiempo llegada: 1568848499.1277084 minutos\n"
     ]
    }
   ],
   "source": [
    "from time import time\n",
    "from random import random\n",
    "from math import log\n",
    "#generar Ts\n",
    "def generar_Ts(s, lambda_max):\n",
    "    return s - (1/lambda_max) * log(random())\n",
    "\n",
    "#inicializacion\n",
    "t = Arrivals = Departures = n = 0\n",
    "T0 = time()\n",
    "ta = T0\n",
    "Tiempo_final = T0 + 60.0\n",
    "td = float('inf')\n",
    "tiempos_llegada = []\n",
    "tiempos_salida = []\n",
    "while True:\n",
    "    #casos\n",
    "    if ta <= td and ta <= Tiempo_final:\n",
    "        t = ta\n",
    "        Arrivals += 1\n",
    "        n += 1\n",
    "        Tx = generar_Ts(t, 2400)\n",
    "        ta = Tx\n",
    "        if n == 1:\n",
    "            Y = generar_Ts(t, 6000)\n",
    "            td = t + Y\n",
    "        tiempos_llegada.append(t)    \n",
    "    elif td < ta and td <= T:\n",
    "        t = td\n",
    "        n = n - 1\n",
    "        Departures = Departures + 1\n",
    "        if n == 0:\n",
    "            td = float(\"inf\")\n",
    "        else:\n",
    "            Y = generar_Ts(t, 6000)\n",
    "            td = t + Y\n",
    "        tiempos_salida.append(t)\n",
    "    elif min(ta, td) > Tiempo_final and n > 0:\n",
    "        t = td\n",
    "        n = n - 1\n",
    "        Departures = Departures + 1\n",
    "        if n > 0:\n",
    "            Y = generar_Ts(t, 6000)\n",
    "            td = t + Y\n",
    "        tiempos_salida.append(t)\n",
    "    elif min(ta, td) > Tiempo_final and n == 0:\n",
    "        Tp = max(t -Tiempo_final,0)\n",
    "        break\n",
    "\n",
    "print(\"Arrivals: {}\".format(Arrivals))\n",
    "print(\"Departures: {}\".format(Departures))\n",
    "print(\"Tiempo: {} horas\".format(ta/60))\n",
    "print(\"Tiempo desocupado: {}\".format(Tiempo_final - tiempos_llegada[-1]))\n",
    "print(\"Tiempo llegada: {} minutos\".format(tiempos_llegada[-1]))"
   ]
  },
  {
   "cell_type": "markdown",
   "metadata": {},
   "source": [
    "# <font color=red>Task 1 </font>\n",
    "\n",
    "- **¿Cuantas solicitudes atendió cada servidor?**\n",
    "    - Proveedor 1 - Gorilla Megacomputing: atendió 143612 solicitudes\n",
    "    - Proveedor 2 - Ants Smart Computing: \n",
    "- **¿Cuánto tiempo estuvo cada servidor ocupado?**\n",
    "    - Proveedor 1 - Gorilla Megacomputing: 26147450 horas aproximadamente\n",
    "    - Proveedor 2 - Ants Smart Computing: \n",
    "- **¿Cuánto tiempo estuvo cada servidor desocupado (iddle)?**\n",
    "    - Proveedor 1 - Gorilla Megacomputing: 0.001 minuto \n",
    "    - Proveedor 2 - Ants Smart Computing: \n",
    "- **¿Cuánto tiempo en total estuvieron las solicitudes en cola?**\n",
    "    - Proveedor 1 - Gorilla Megacomputing: \n",
    "    - Proveedor 2 - Ants Smart Computing: \n",
    "- **En promedio, ¿cuánto tiempo estuvo cada solicitud en cola?**\n",
    "    - Proveedor 1 - Gorilla Megacomputing: \n",
    "    - Proveedor 2 - Ants Smart Computing: \n",
    "- **En promedio, ¿cuántas solicitudes estuvieron en cola cada segundo?**\n",
    "    - Proveedor 1 - Gorilla Megacomputing: \n",
    "    - Proveedor 2 - Ants Smart Computing: \n",
    "- **¿Cuál es el momento de la salida de la última solicitud?**\n",
    "    - Proveedor 1 - Gorilla Megacomputing: \n",
    "    - Proveedor 2 - Ants Smart Computing: "
   ]
  }
 ],
 "metadata": {
  "kernelspec": {
   "display_name": "Python 3",
   "language": "python",
   "name": "python3"
  },
  "language_info": {
   "codemirror_mode": {
    "name": "ipython",
    "version": 3
   },
   "file_extension": ".py",
   "mimetype": "text/x-python",
   "name": "python",
   "nbconvert_exporter": "python",
   "pygments_lexer": "ipython3",
   "version": "3.7.2"
  }
 },
 "nbformat": 4,
 "nbformat_minor": 2
}
