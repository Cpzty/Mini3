{
 "cells": [
  {
   "cell_type": "code",
   "execution_count": 2,
   "metadata": {},
   "outputs": [],
   "source": [
    "import sys\n",
    "import math\n",
    "import random\n",
    "import numpy as np\n",
    "\n",
    "def generar_Ts2(t, lambda_max):\n",
    "    return t - (1/lambda_max) * math.log(random.random())\n",
    "\n",
    "\n",
    "def simulation2(cant_servrs, Tn, lambda_max, lambda_b):\n",
    "    #Inf simu\n",
    "    inf = random.randint(0,sys.maxsize)\n",
    "    \n",
    "    #Inicializando variables en 0\n",
    "    t = 0\n",
    "    ti = 0 \n",
    "    \n",
    "    Na = 0\n",
    "    n = 0 \n",
    "    #Inicializando variables en 0 dependiendo de la cantidad de servidores\n",
    "    C = [0] * cant_servrs \n",
    "    n_i = [0] * cant_servrs \n",
    "    \n",
    "    #Inicializando tiempos\n",
    "    T = generar_Ts2(t, lambda_max) \n",
    "    t_a = T  \n",
    "    t_d = [inf] * cant_servrs \n",
    "    \n",
    "    #Inicializando listas de tiempos\n",
    "    Arrivals = []\n",
    "    Departures = []\n",
    "    Waiting = []\n",
    "    Busy = np.zeros(cant_servrs)\n",
    "\n",
    "    while (n < Tn or n == 0) :\n",
    "        # cases\n",
    "        if t_a == min(min(t_d), t_a): \n",
    "            if t < Tn:\n",
    "                t = t_a\n",
    "                Na = Na + 1\n",
    "                to = generar_Ts2(t, lambda_max)\n",
    "                t_a = to\n",
    "                Arrivals.append(t)\n",
    "                if n < cant_servrs:\n",
    "                    for i in range(cant_servrs):\n",
    "                        if n_i[i] == 0:  # is empty\n",
    "                            n_i[i] = Na\n",
    "                            Y = generar_Ts2(t, lambda_b)\n",
    "                            t_d[i] = Y\n",
    "                            Busy[i] += t_d[i]-t\n",
    "                            break\n",
    "            else:\n",
    "                ti = ti + 1\n",
    "                Waiting.append(min(t_d) - t)\n",
    "            n = n + 1\n",
    "                \n",
    "        else: \n",
    "            ti = np.argmin(t_d)\n",
    "            index = t_d.index(min(t_d))\n",
    "            t = ti\n",
    "            C[index] += 1\n",
    "            Departures.append(t)\n",
    "            if n < cant_servrs:\n",
    "                n_i[index] = 0\n",
    "                t_d[index] = inf\n",
    "            else:\n",
    "                n_i[index] = Na + 1\n",
    "                Y = generar_Ts2(t, lambda_b)\n",
    "                t_d[index] = Y\n",
    "                Busy[index] += t_d[index]-t\n",
    "            n -= 1\n",
    "            \n",
    "    return Arrivals, Departures, Busy, Waiting, C, Na, t, ti, n_i\n",
    "\n",
    "def output_task(servers, Arrivals, Departures, Busy, Waiting, C, Na, t, ti, n_i, t_sim):\n",
    "    print(\"Total de solicitudes \",  Na)\n",
    "    print(\"Cada servidor atendió: \",  C)\n",
    "    print(\"Tiempo que cada servidor estuvo ocupado: \", Busy) \n",
    "    print(\"Tiempo que cada servidor estuvo desocupado: \" , t_sim - Busy)\n",
    "    print(\"Tiempo total de solicitudes en cola: \" , np.round(np.sum(Waiting), 5))\n",
    "    print(\"Tiempo promedio de cada solicitud en cola: \" , np.sum(Waiting)/servers)\n",
    "    print(\"Cantidad de procesos en espera: \" , ti)\n",
    "    print(\"El momento de salida de la ultima solicitud es: \" , t_sim - Departures[-1])\n",
    "    print(\"\\n\")"
   ]
  },
  {
   "cell_type": "markdown",
   "metadata": {},
   "source": [
    "# <font color=red>Task 1 </font>"
   ]
  },
  {
   "cell_type": "code",
   "execution_count": null,
   "metadata": {},
   "outputs": [
    {
     "name": "stdout",
     "output_type": "stream",
     "text": [
      "\n",
      "Proveedor 1 – Gorilla Megacomputing: \n",
      "\n"
     ]
    }
   ],
   "source": [
    "#SEGUNDO CODIGO\n",
    "print(\"\\nProveedor 1 – Gorilla Megacomputing: \\n\")\n",
    "Arrivals, Departures, Busy, Waiting, C, Na, t, ti, n_i= simulation2(1, 3600, 40, 100)\n",
    "output_task(1, Arrivals, Departures, Busy, Waiting, C, Na, t, ti, n_i, 3600)\n",
    "\n",
    "print(\"\\nProveedor 2 – Ants smart computing: \\n\")\n",
    "Arrivals, Departures, Busy, Waiting, C, Na, t, ti, n_i= simulation2(10, 3600, 40, 10)\n",
    "output_task(10, Arrivals, Departures, Busy, Waiting, C, Na, t, ti, n_i, 3600)"
   ]
  },
  {
   "cell_type": "markdown",
   "metadata": {},
   "source": [
    "# <font color=red>Task 2 </font>\n",
    "\n",
    "Empíricamente la cantidad de servidores que se necesitan alquilar para **Ants smart computing** son **20**. \n",
    "Esto debido a que es la cantidad que al realizar probarlo repetidas veces, maximiza el tiempo de ocupados y minimiza los servidores desocupados. "
   ]
  },
  {
   "cell_type": "markdown",
   "metadata": {},
   "source": [
    "# <font color=red>Task 3 y 4 </font>\n",
    "\n",
    "Teniendo 6000 solicitudes por minuto: "
   ]
  },
  {
   "cell_type": "code",
   "execution_count": 6,
   "metadata": {},
   "outputs": [
    {
     "name": "stdout",
     "output_type": "stream",
     "text": [
      "\n",
      "Proveedor 1 – Gorilla Megacomputing: \n",
      "\n",
      "Total de solicitudes  360302\n",
      "Cada servidor atendió:  [360302]\n",
      "Tiempo que cada servidor estuvo ocupado:  [3597.57142059]\n",
      "Tiempo que cada servidor estuvo desocupado:  [2.42857941]\n",
      "Tiempo total de solicitudes en cola:  37.74653\n",
      "Tiempo promedio de cada solicitud en cola:  3.7746527070339653\n",
      "Cantidad de procesos en espera:  3600\n",
      "El momento de salida de la ultima solicitud es:  3600\n",
      "\n",
      "\n",
      "\n",
      "Proveedor 2 – Ants smart computing: \n",
      "\n",
      "Total de solicitudes  360009\n",
      "Cada servidor atendió:  [40393, 40198, 39484, 38308, 37383, 36432, 35028, 32893, 31071, 28811]\n",
      "Tiempo que cada servidor estuvo ocupado:  [4044.09943335 4015.22799436 3924.97568879 3863.12990131 3779.87435844\n",
      " 3649.9383622  3506.99231396 3309.1072888  3098.75517457 2868.65843929]\n",
      "Tiempo que cada servidor estuvo desocupado:  [-444.09943335 -415.22799436 -324.97568879 -263.12990131 -179.87435844\n",
      "  -49.9383622    93.00768604  290.8927112   501.24482543  731.34156071]\n",
      "Tiempo total de solicitudes en cola:  139.79113\n",
      "Tiempo promedio de cada solicitud en cola:  13.979113002969825\n",
      "Cantidad de procesos en espera:  3597\n",
      "El momento de salida de la ultima solicitud es:  3595\n",
      "\n",
      "\n"
     ]
    }
   ],
   "source": [
    "print(\"\\nProveedor 1 – Gorilla Megacomputing: \\n\")\n",
    "Arrivals, Departures, Busy, Waiting, C, Na, t, ti, n_i = simulation2(1, 3600, 6000/60, 100)\n",
    "output_task(10, Arrivals, Departures, Busy, Waiting, C, Na, t, ti, n_i, 3600)\n",
    "\n",
    "print(\"\\nProveedor 2 – Ants smart computing: \\n\")\n",
    "Arrivals, Departures, Busy, Waiting, C, Na, t, ti, n_i = simulation2(10, 3600, 6000/60, 10)\n",
    "output_task(10, Arrivals, Departures, Busy, Waiting, C, Na, t, ti, n_i, 3600)"
   ]
  },
  {
   "cell_type": "markdown",
   "metadata": {},
   "source": [
    "# <font color=red>Task 5 </font>\n",
    "\n",
    "**RECOMENDACIONES**\n",
    "\n",
    "- Se le recomienda a la junta ejecutiva no utilizar demasiados servidores ya que la cantidad de servidores no implica rendimiento. Por lo tanto, en las pruebas se estimó que 20 servidores puede servir como estimador de la cantidad de servidores que maximiza la ejecución. "
   ]
  },
  {
   "cell_type": "code",
   "execution_count": 9,
   "metadata": {},
   "outputs": [
    {
     "name": "stdout",
     "output_type": "stream",
     "text": [
      "\n",
      "Proveedor 2 – Ants smart computing: 13 servidores \n",
      "\n",
      "Total de solicitudes  144347\n",
      "Cada servidor atendió:  [28887, 26367, 23744, 20080, 16042, 11858, 8007, 4795, 2588, 1202, 513, 197, 65]\n",
      "Tiempo que cada servidor estuvo ocupado:  [2882.48173471 2659.82371867 2378.4061038  2020.85732073 1626.36284947\n",
      " 1194.84697587  806.63537244  482.32581041  256.77502026  118.17007223\n",
      "   47.74117841   19.44199973    5.42410563]\n",
      "Tiempo que cada servidor estuvo desocupado:  [ 717.51826529  940.17628133 1221.5938962  1579.14267927 1973.63715053\n",
      " 2405.15302413 2793.36462756 3117.67418959 3343.22497974 3481.82992777\n",
      " 3552.25882159 3580.55800027 3594.57589437]\n",
      "Tiempo total de solicitudes en cola:  252.88067\n",
      "Tiempo promedio de cada solicitud en cola:  19.45235903885441\n",
      "Cantidad de procesos en espera:  3603\n",
      "El momento de salida de la ultima solicitud es:  3595\n",
      "\n",
      "\n",
      "\n",
      "Proveedor 2 – Ants smart computing: 19 servidores \n",
      "\n"
     ]
    },
    {
     "ename": "TypeError",
     "evalue": "output_task() takes 11 positional arguments but 12 were given",
     "output_type": "error",
     "traceback": [
      "\u001b[1;31m---------------------------------------------------------------------------\u001b[0m",
      "\u001b[1;31mTypeError\u001b[0m                                 Traceback (most recent call last)",
      "\u001b[1;32m<ipython-input-9-26d13edb07f7>\u001b[0m in \u001b[0;36m<module>\u001b[1;34m\u001b[0m\n\u001b[0;32m      7\u001b[0m \u001b[0mprint\u001b[0m\u001b[1;33m(\u001b[0m\u001b[1;34m\"\\nProveedor 2 – Ants smart computing: 19 servidores \\n\"\u001b[0m\u001b[1;33m)\u001b[0m\u001b[1;33m\u001b[0m\u001b[1;33m\u001b[0m\u001b[0m\n\u001b[0;32m      8\u001b[0m \u001b[0mArrivals\u001b[0m\u001b[1;33m,\u001b[0m \u001b[0mDepartures\u001b[0m\u001b[1;33m,\u001b[0m \u001b[0mBusy\u001b[0m\u001b[1;33m,\u001b[0m \u001b[0mWaiting\u001b[0m\u001b[1;33m,\u001b[0m \u001b[0mC\u001b[0m\u001b[1;33m,\u001b[0m \u001b[0mNa\u001b[0m\u001b[1;33m,\u001b[0m \u001b[0mt\u001b[0m\u001b[1;33m,\u001b[0m \u001b[0mti\u001b[0m\u001b[1;33m,\u001b[0m \u001b[0mn_i\u001b[0m \u001b[1;33m=\u001b[0m \u001b[0msimulation2\u001b[0m\u001b[1;33m(\u001b[0m\u001b[1;36m19\u001b[0m\u001b[1;33m,\u001b[0m \u001b[1;36m3600\u001b[0m\u001b[1;33m,\u001b[0m \u001b[1;36m2400\u001b[0m\u001b[1;33m/\u001b[0m\u001b[1;36m60\u001b[0m\u001b[1;33m,\u001b[0m \u001b[1;36m10\u001b[0m\u001b[1;33m)\u001b[0m\u001b[1;33m\u001b[0m\u001b[1;33m\u001b[0m\u001b[0m\n\u001b[1;32m----> 9\u001b[1;33m \u001b[0moutput_task\u001b[0m\u001b[1;33m(\u001b[0m\u001b[1;36m19\u001b[0m\u001b[1;33m,\u001b[0m \u001b[0mArrivals\u001b[0m\u001b[1;33m,\u001b[0m \u001b[0mDepartures\u001b[0m\u001b[1;33m,\u001b[0m \u001b[0mBusy\u001b[0m\u001b[1;33m,\u001b[0m \u001b[0mTp\u001b[0m\u001b[1;33m,\u001b[0m \u001b[0mC\u001b[0m\u001b[1;33m,\u001b[0m \u001b[0mRunning\u001b[0m\u001b[1;33m,\u001b[0m \u001b[0mNa\u001b[0m\u001b[1;33m,\u001b[0m \u001b[0mt\u001b[0m\u001b[1;33m,\u001b[0m \u001b[0mti\u001b[0m\u001b[1;33m,\u001b[0m \u001b[0mn_i\u001b[0m\u001b[1;33m,\u001b[0m \u001b[1;36m3600\u001b[0m\u001b[1;33m)\u001b[0m\u001b[1;33m\u001b[0m\u001b[1;33m\u001b[0m\u001b[0m\n\u001b[0m\u001b[0;32m     10\u001b[0m \u001b[1;33m\u001b[0m\u001b[0m\n\u001b[0;32m     11\u001b[0m \u001b[0mprint\u001b[0m\u001b[1;33m(\u001b[0m\u001b[1;34m\"\\nProveedor 2 – Ants smart computing: 20 servidores \\n\"\u001b[0m\u001b[1;33m)\u001b[0m\u001b[1;33m\u001b[0m\u001b[1;33m\u001b[0m\u001b[0m\n",
      "\u001b[1;31mTypeError\u001b[0m: output_task() takes 11 positional arguments but 12 were given"
     ]
    }
   ],
   "source": [
    "#Pruebas \n",
    "\n",
    "print(\"\\nProveedor 2 – Ants smart computing: 13 servidores \\n\")\n",
    "Arrivals, Departures, Busy, Waiting, C, Na, t, ti, n_i = simulation2(13, 3600, 2400/60, 10)\n",
    "output_task(13, Arrivals, Departures, Busy, Waiting, C, Na, t, ti, n_i, 3600)\n",
    "\n",
    "print(\"\\nProveedor 2 – Ants smart computing: 19 servidores \\n\")\n",
    "Arrivals, Departures, Busy, Waiting, C, Na, t, ti, n_i = simulation2(19, 3600, 2400/60, 10)\n",
    "output_task(19, Arrivals, Departures, Busy, Waiting, C, Na, t, ti, n_i, 3600)\n",
    "\n",
    "print(\"\\nProveedor 2 – Ants smart computing: 20 servidores \\n\")\n",
    "Arrivals, Departures, Busy, Waiting, C, Na, t, ti, n_i = simulation2(20, 3600, 2400/60, 10)\n",
    "output_task(20, Arrivals, Departures, Busy, Waiting, C, Na, t, ti, n_i, 3600)\n",
    "\n",
    "print(\"\\nProveedor 2 – Ants smart computing: 21 servidores \\n\")\n",
    "Arrivals, Departures, Busy, Waiting, C, Na, t, ti, n_i = simulation2(21, 3600, 2400/60, 10)\n",
    "output_task(21, Arrivals, Departures, Busy, Waiting, C, Na, t, ti, n_i, 3600)\n",
    "\n",
    "print(\"\\nProveedor 2 – Ants smart computing: 25 servidores \\n\")\n",
    "Arrivals, Departures, Busy, Waiting, C, Na, t, ti, n_i = simulation2(25, 3600, 2400/60, 10)\n",
    "output_task(25, Arrivals, Departures, Busy, Waiting, C, Na, t, ti, n_i, 3600)"
   ]
  },
  {
   "cell_type": "code",
   "execution_count": null,
   "metadata": {},
   "outputs": [],
   "source": [
    "#PRUEBA CON SAMUEL\n",
    "\n",
    "#1\n",
    "print(\"\\nProveedor 2 – Ants smart computing: 10 servidores \\n\")\n",
    "Arrivals, Departures, Busy, Tp, C, Running, Na, t, n_i = simulation(10, 40, 40, 10)\n",
    "output_task1(10, Arrivals, Departures, Busy, Tp, C, Running, Na, t, n_i)\n",
    "\n",
    "#2\n",
    "print(\"\\nProveedor 2 – Ants smart computing: 10 servidores \\n\")\n",
    "Arrivals, Departures, Busy, Tp, C, Running, Na, t, n_i = simulation2(10, 40, 40, 10)\n",
    "output_task(10, Arrivals, Departures, Busy, Tp, C, Running, Na, t, n_i, 40)"
   ]
  }
 ],
 "metadata": {
  "kernelspec": {
   "display_name": "Python 3",
   "language": "python",
   "name": "python3"
  },
  "language_info": {
   "codemirror_mode": {
    "name": "ipython",
    "version": 3
   },
   "file_extension": ".py",
   "mimetype": "text/x-python",
   "name": "python",
   "nbconvert_exporter": "python",
   "pygments_lexer": "ipython3",
   "version": "3.7.1"
  }
 },
 "nbformat": 4,
 "nbformat_minor": 2
}
