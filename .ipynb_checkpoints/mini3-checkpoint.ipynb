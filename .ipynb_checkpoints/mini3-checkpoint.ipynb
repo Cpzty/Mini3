{
 "cells": [
  {
   "cell_type": "markdown",
   "metadata": {},
   "source": [
    "1 servidor "
   ]
  },
  {
   "cell_type": "code",
   "execution_count": 19,
   "metadata": {},
   "outputs": [],
   "source": [
    "from time import time\n",
    "from random import random\n",
    "from math import log\n",
    "#generar Ts\n",
    "def generar_Ts(s, lambda_max):\n",
    "    t = s\n",
    "    while True:\n",
    "        u = random()\n",
    "        t = t - 1/lambda_max * log(u)\n",
    "        u = random()\n",
    "        if u <= t / lambda_max:\n",
    "            return t\n",
    "        \n",
    "#inicializacion\n",
    "t = Arrivals = Departures = n = 0\n",
    "T0 = time()\n",
    "ta = T0\n",
    "Tiempo_final = T0 + 180.0\n",
    "td = float('inf')\n",
    "tiempos_llegada = []\n",
    "tiempos_salida = []\n",
    "#casos\n",
    "if ta <= td and ta <= Tiempo_final:\n",
    "    t = ta\n",
    "    Arrivals += 1\n",
    "    n += 1\n",
    "    Tx = generar_Ts(t, 8)\n",
    "    ta = Tx\n",
    "    if n == 1:\n",
    "        #Y = generar_Y()\n",
    "        td = t + Y\n",
    "    tiempos_llegada.append(t)\n",
    "    \n",
    "    \n",
    "#elif td < ta and td <= T:\n",
    "#elif min(ta, td) > T and n > 0\n",
    "#elif min(ta, td) > T, n = 0\n"
   ]
  }
 ],
 "metadata": {
  "kernelspec": {
   "display_name": "Python 3",
   "language": "python",
   "name": "python3"
  },
  "language_info": {
   "codemirror_mode": {
    "name": "ipython",
    "version": 3
   },
   "file_extension": ".py",
   "mimetype": "text/x-python",
   "name": "python",
   "nbconvert_exporter": "python",
   "pygments_lexer": "ipython3",
   "version": "3.7.1"
  }
 },
 "nbformat": 4,
 "nbformat_minor": 2
}
