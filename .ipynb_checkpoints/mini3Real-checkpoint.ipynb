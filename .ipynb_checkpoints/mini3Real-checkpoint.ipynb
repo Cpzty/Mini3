{
 "cells": [
  {
   "cell_type": "code",
   "execution_count": 38,
   "metadata": {},
   "outputs": [],
   "source": [
    "import sys\n",
    "import math\n",
    "import random\n",
    "import numpy as np\n",
    "\n",
    "def generar_Ts(lambda_max):\n",
    "    return - (1/lambda_max) * math.log(random.random())\n",
    "\n",
    "\n",
    "def simulation(servers, Tn, lambda_a, lambda_max):\n",
    "    #Inf simu\n",
    "    inf = random.randint(0,sys.maxsize)\n",
    "    \n",
    "    #Inicializando variables\n",
    "    t = Na = n = 0  \n",
    "    C = n_i = [0] * servers  \n",
    "    T = [generar_Ts(lambda_a)]  \n",
    "    t_a = T[0]  \n",
    "    t_d = [inf] * servers \n",
    "    Arrivals = Departures = Running = []  \n",
    "    Busy = np.zeros(servers)\n",
    "\n",
    "    while True:\n",
    "        # cases\n",
    "        if t_a == min([t_a] + t_d) and t_a < Tn: \n",
    "            t = t_a\n",
    "            Na = Na + 1\n",
    "            to = t + generar_Ts(lambda_a)\n",
    "            T.append(to)\n",
    "            t_a = to\n",
    "            Arrivals.append(t)\n",
    "            if n < servers:\n",
    "                for i in range(servers):\n",
    "                    if n_i[i] == 0:  # is empty\n",
    "                        Running.append(t)\n",
    "                        n_i[i] = Na\n",
    "                        n = n + 1\n",
    "                        Y = generar_Ts(lambda_max)\n",
    "                        t_d[i] = t + Y\n",
    "                        Busy[i] += t_d[i]-t\n",
    "                        break\n",
    "            else:\n",
    "                n = n + 1\n",
    "                \n",
    "        elif min(t_d) == min([t_a] + t_d) and min([t_a] + t_d) < Tn:\n",
    "            ti = min(t_d)\n",
    "            index = t_d.index(min(t_d))\n",
    "            t = ti\n",
    "            C[index] = C[index] + 1\n",
    "            Departures.append(t)\n",
    "            n = n - 1\n",
    "            if n >= servers:\n",
    "                Running.append(t)\n",
    "                m = max(n_i)\n",
    "                n_i[index] = m + 1\n",
    "                Y = generar_Ts(lambda_max)\n",
    "                t_d[index] = t + Y\n",
    "            else:\n",
    "                n_i[index] = 0\n",
    "                t_d[index] = inf\n",
    "\n",
    "        elif min([t_a] + t_d) > Tn and n > 0:\n",
    "            temp = np.argmin(t_d)\n",
    "            t = t_d[temp]\n",
    "            n -= 1\n",
    "            C[temp] = C[temp] + 1\n",
    "            Departures.append(t)\n",
    "            if n <= servers:\n",
    "                n_i[temp] = 0\n",
    "                t_d[temp] = inf\n",
    "            else:\n",
    "                index = max(n_i) + 1\n",
    "                #Running.append(t - Arrivals[index])\n",
    "                Running.append(t)\n",
    "                Y = generar_Ts(lambda_max)\n",
    "                n_i[temp] = index\n",
    "                t_d[temp] = t + Y\n",
    "                Busy[temp] += t_d[temp]-t\n",
    "\n",
    "        elif min([t_a] + t_d) > Tn and n == 0:\n",
    "            t = t + abs(t - Departures[-1])\n",
    "            Tp = max(t - Tn, 0)\n",
    "            return Arrivals, Departures, Busy, Tp, C, Running, Na, t, n_i\n",
    "\n",
    "def output_task1(cant_servers, Arrivals, Departures, Busy, Tp, C, Running, Na, t, n_i):\n",
    "    print(\"Solicitudes atendidas: \",  str(len(Running)))\n",
    "    print(\"Tiempo que cada servidor estuvo ocupado: \", Busy) \n",
    "    print(\"Tiempo que cada servidor estuvo desocupado: \" , np.maximum(np.ones(cant_servers)*t - Busy,0))\n",
    "    print(\"Tiempo total de solicitudes en cola: \" , np.mean())\n",
    "    print(\"Tiempo promedio de cada solicitud en cola: \" , np.round(np.mean(np.subtract(Running, Arrivals)),5))\n",
    "    print(\"El promedio en que las solicitudes estuvieron en cola cada segundo es de: \" , \"je\")\n",
    "    print(\"El momento de salida de la ultima solicitud es: \" , )\n",
    "    print(\"\\n\")"
   ]
  },
  {
   "cell_type": "markdown",
   "metadata": {},
   "source": [
    "# <font color=red>Task 1 </font>"
   ]
  },
  {
   "cell_type": "code",
   "execution_count": 37,
   "metadata": {},
   "outputs": [
    {
     "name": "stdout",
     "output_type": "stream",
     "text": [
      "\n",
      "Proveedor 1 – Gorilla Megacomputing: \n",
      "\n"
     ]
    },
    {
     "ename": "IndexError",
     "evalue": "list index out of range",
     "output_type": "error",
     "traceback": [
      "\u001b[1;31m---------------------------------------------------------------------------\u001b[0m",
      "\u001b[1;31mIndexError\u001b[0m                                Traceback (most recent call last)",
      "\u001b[1;32m<ipython-input-37-80969ada7a8d>\u001b[0m in \u001b[0;36m<module>\u001b[1;34m\u001b[0m\n\u001b[0;32m      1\u001b[0m \u001b[0mprint\u001b[0m\u001b[1;33m(\u001b[0m\u001b[1;34m\"\\nProveedor 1 – Gorilla Megacomputing: \\n\"\u001b[0m\u001b[1;33m)\u001b[0m\u001b[1;33m\u001b[0m\u001b[1;33m\u001b[0m\u001b[0m\n\u001b[1;32m----> 2\u001b[1;33m \u001b[0mArrivals\u001b[0m\u001b[1;33m,\u001b[0m \u001b[0mDepartures\u001b[0m\u001b[1;33m,\u001b[0m \u001b[0mBusy\u001b[0m\u001b[1;33m,\u001b[0m \u001b[0mTp\u001b[0m\u001b[1;33m,\u001b[0m \u001b[0mC\u001b[0m\u001b[1;33m,\u001b[0m \u001b[0mRunning\u001b[0m\u001b[1;33m,\u001b[0m \u001b[0mNa\u001b[0m\u001b[1;33m,\u001b[0m \u001b[0mt\u001b[0m\u001b[1;33m,\u001b[0m \u001b[0mn_i\u001b[0m \u001b[1;33m=\u001b[0m \u001b[0msimulation\u001b[0m\u001b[1;33m(\u001b[0m\u001b[1;36m1\u001b[0m\u001b[1;33m,\u001b[0m \u001b[1;36m60\u001b[0m\u001b[1;33m,\u001b[0m \u001b[1;36m2400\u001b[0m\u001b[1;33m,\u001b[0m \u001b[1;36m100\u001b[0m\u001b[1;33m)\u001b[0m\u001b[1;33m\u001b[0m\u001b[1;33m\u001b[0m\u001b[0m\n\u001b[0m\u001b[0;32m      3\u001b[0m \u001b[0moutput_task1\u001b[0m\u001b[1;33m(\u001b[0m\u001b[1;36m1\u001b[0m\u001b[1;33m,\u001b[0m \u001b[0mArrivals\u001b[0m\u001b[1;33m,\u001b[0m \u001b[0mDepartures\u001b[0m\u001b[1;33m,\u001b[0m \u001b[0mBusy\u001b[0m\u001b[1;33m,\u001b[0m \u001b[0mTp\u001b[0m\u001b[1;33m,\u001b[0m \u001b[0mC\u001b[0m\u001b[1;33m,\u001b[0m \u001b[0mRunning\u001b[0m\u001b[1;33m,\u001b[0m \u001b[0mNa\u001b[0m\u001b[1;33m,\u001b[0m \u001b[0mt\u001b[0m\u001b[1;33m,\u001b[0m \u001b[0mn_i\u001b[0m\u001b[1;33m)\u001b[0m\u001b[1;33m\u001b[0m\u001b[1;33m\u001b[0m\u001b[0m\n\u001b[0;32m      4\u001b[0m \u001b[1;33m\u001b[0m\u001b[0m\n\u001b[0;32m      5\u001b[0m \u001b[0mprint\u001b[0m\u001b[1;33m(\u001b[0m\u001b[1;34m\"\\nProveedor 2 – Ants smart computing: \\n\"\u001b[0m\u001b[1;33m)\u001b[0m\u001b[1;33m\u001b[0m\u001b[1;33m\u001b[0m\u001b[0m\n",
      "\u001b[1;32m<ipython-input-36-7d412a4543b9>\u001b[0m in \u001b[0;36msimulation\u001b[1;34m(servers, Tn, lambda_a, lambda_max)\u001b[0m\n\u001b[0;32m     33\u001b[0m                 \u001b[1;32mfor\u001b[0m \u001b[0mi\u001b[0m \u001b[1;32min\u001b[0m \u001b[0mrange\u001b[0m\u001b[1;33m(\u001b[0m\u001b[0mservers\u001b[0m\u001b[1;33m)\u001b[0m\u001b[1;33m:\u001b[0m\u001b[1;33m\u001b[0m\u001b[1;33m\u001b[0m\u001b[0m\n\u001b[0;32m     34\u001b[0m                     \u001b[1;32mif\u001b[0m \u001b[0mn_i\u001b[0m\u001b[1;33m[\u001b[0m\u001b[0mi\u001b[0m\u001b[1;33m]\u001b[0m \u001b[1;33m==\u001b[0m \u001b[1;36m0\u001b[0m\u001b[1;33m:\u001b[0m  \u001b[1;31m# is empty\u001b[0m\u001b[1;33m\u001b[0m\u001b[1;33m\u001b[0m\u001b[0m\n\u001b[1;32m---> 35\u001b[1;33m                         \u001b[0mRunning\u001b[0m\u001b[1;33m.\u001b[0m\u001b[0mappend\u001b[0m\u001b[1;33m(\u001b[0m\u001b[0mt\u001b[0m \u001b[1;33m-\u001b[0m \u001b[0mArrivals\u001b[0m\u001b[1;33m[\u001b[0m\u001b[0mNa\u001b[0m\u001b[1;33m]\u001b[0m\u001b[1;33m)\u001b[0m\u001b[1;33m\u001b[0m\u001b[1;33m\u001b[0m\u001b[0m\n\u001b[0m\u001b[0;32m     36\u001b[0m                         \u001b[0mn_i\u001b[0m\u001b[1;33m[\u001b[0m\u001b[0mi\u001b[0m\u001b[1;33m]\u001b[0m \u001b[1;33m=\u001b[0m \u001b[0mNa\u001b[0m\u001b[1;33m\u001b[0m\u001b[1;33m\u001b[0m\u001b[0m\n\u001b[0;32m     37\u001b[0m                         \u001b[0mn\u001b[0m \u001b[1;33m=\u001b[0m \u001b[0mn\u001b[0m \u001b[1;33m+\u001b[0m \u001b[1;36m1\u001b[0m\u001b[1;33m\u001b[0m\u001b[1;33m\u001b[0m\u001b[0m\n",
      "\u001b[1;31mIndexError\u001b[0m: list index out of range"
     ]
    }
   ],
   "source": [
    "print(\"\\nProveedor 1 – Gorilla Megacomputing: \\n\")\n",
    "Arrivals, Departures, Busy, Tp, C, Running, Na, t, n_i = simulation(1, 60, 2400, 100)\n",
    "output_task1(1, Arrivals, Departures, Busy, Tp, C, Running, Na, t, n_i)\n",
    "\n",
    "print(\"\\nProveedor 2 – Ants smart computing: \\n\")\n",
    "Arrivals, Departures, Busy, Tp, C, Running, Na, t, n_i = simulation(10, 60, 2400, 600)\n",
    "output_task1(10, Arrivals, Departures, Busy, Tp, C, Running, Na, t, n_i)"
   ]
  }
 ],
 "metadata": {
  "kernelspec": {
   "display_name": "Python 3",
   "language": "python",
   "name": "python3"
  },
  "language_info": {
   "codemirror_mode": {
    "name": "ipython",
    "version": 3
   },
   "file_extension": ".py",
   "mimetype": "text/x-python",
   "name": "python",
   "nbconvert_exporter": "python",
   "pygments_lexer": "ipython3",
   "version": "3.7.2"
  }
 },
 "nbformat": 4,
 "nbformat_minor": 2
}
