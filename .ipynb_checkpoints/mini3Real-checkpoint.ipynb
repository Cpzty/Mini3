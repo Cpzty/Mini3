{
 "cells": [
  {
   "cell_type": "code",
   "execution_count": 24,
   "metadata": {},
   "outputs": [],
   "source": [
    "import sys\n",
    "import math\n",
    "import random\n",
    "import numpy as np\n",
    "\n",
    "def generar_Ts(lambda_max):\n",
    "    return - (1/lambda_max) * math.log(random.random())\n",
    "\n",
    "\n",
    "def simulation(cant_servrs, Tn, lambda_a, lambda_max):\n",
    "    #Inf simu\n",
    "    inf = random.randint(0,sys.maxsize)\n",
    "    \n",
    "    #Inicializando variables en 0\n",
    "    t = 0\n",
    "    Na = 0\n",
    "    n = 0 \n",
    "    #Inicializando variables en 0 dependiendo de la cantidad de servidores\n",
    "    C = [0] * cant_servrs \n",
    "    n_i = [0] * cant_servrs \n",
    "    \n",
    "    #Inicializando tiempos\n",
    "    T = [generar_Ts(lambda_a)]  \n",
    "    t_a = T[0]  \n",
    "    t_d = [inf] * cant_servrs \n",
    "    \n",
    "    #Inicializando listas de tiempos\n",
    "    Arrivals = []\n",
    "    Departures = []\n",
    "    Running = []  \n",
    "    Busy = np.zeros(cant_servrs)\n",
    "\n",
    "    while True:\n",
    "        # cases\n",
    "        if t_a == min([t_a] + t_d) and t_a < Tn: \n",
    "            t = t_a\n",
    "            Na = Na + 1\n",
    "            to = t + generar_Ts(lambda_a)\n",
    "            T.append(to)\n",
    "            t_a = to\n",
    "            Arrivals.append(t)\n",
    "            if n < cant_servrs:\n",
    "                for i in range(cant_servrs):\n",
    "                    if n_i[i] == 0:  # is empty\n",
    "                        Running.append(t)\n",
    "                        n_i[i] = Na\n",
    "                        n = n + 1\n",
    "                        Y = generar_Ts(lambda_max)\n",
    "                        t_d[i] = t + Y\n",
    "                        Busy[i] += t_d[i]-t\n",
    "                        break\n",
    "            else:\n",
    "                n = n + 1\n",
    "                \n",
    "        elif min(t_d) == min([t_a] + t_d) and min([t_a] + t_d) < Tn:\n",
    "            ti = np.argmin(t_d)\n",
    "            index = t_d.index(min(t_d))\n",
    "            t = ti\n",
    "            C[index] = C[index] + 1\n",
    "            Departures.append(t)\n",
    "            n = n - 1\n",
    "            if n < cant_servrs:\n",
    "                n_i[index] = 0\n",
    "                t_d[index] = inf\n",
    "            else:\n",
    "                Running.append(t)\n",
    "                m = max(n_i)\n",
    "                n_i[index] = m + 1\n",
    "                Y = generar_Ts(lambda_max)\n",
    "                t_d[index] = t + Y\n",
    "\n",
    "        elif min([t_a] + t_d) > Tn and n > 0:\n",
    "            temp = np.argmin(t_d)\n",
    "            t = t_d[temp]\n",
    "            n -= 1\n",
    "            C[temp] = C[temp] + 1\n",
    "            Departures.append(t)\n",
    "            if n < cant_servrs:\n",
    "                n_i[temp] = 0\n",
    "                t_d[temp] = inf\n",
    "            else:\n",
    "                index = max(n_i) + 1\n",
    "                #Running.append(t - Arrivals[index])\n",
    "                Running.append(t)\n",
    "                Y = generar_Ts(lambda_max)\n",
    "                n_i[temp] = index\n",
    "                t_d[temp] = t + Y\n",
    "                Busy[temp] += t_d[temp]-t\n",
    "\n",
    "        elif min([t_a] + t_d) > Tn and n == 0:\n",
    "            t = t + abs(t - Departures[-1])\n",
    "            Tp = max(t - Tn, 0)\n",
    "            return Arrivals, Departures, Busy, Tp, C, Running, Na, t, n_i\n",
    "\n",
    "def output_task1(cant_cant_servrs, Arrivals, Departures, Busy, Tp, C, Running, Na, t, n_i):\n",
    "    print(\"Solicitudes atendidas: \",  str(len(Running)))\n",
    "    print(\"Tiempo que cada servidor estuvo ocupado: \", Busy) \n",
    "    print(\"Tiempo que cada servidor estuvo desocupado: \" , np.maximum(np.ones(cant_cant_servrs)*t - Busy,0))\n",
    "    print(\"Tiempo total de solicitudes en cola: \" , np.round(np.sum(Running), 5))\n",
    "    print(\"Tiempo promedio de cada solicitud en cola: \" , np.round(np.mean(Running), 5))\n",
    "    print(\"El promedio en que las solicitudes estuvieron en cola cada segundo es de: \" , np.round(np.mean(Running)*60, 5))\n",
    "    print(\"El momento de salida de la ultima solicitud es: \" , Departures[-1])\n",
    "    print(\"\\n\")"
   ]
  },
  {
   "cell_type": "markdown",
   "metadata": {},
   "source": [
    "# <font color=red>Task 1 </font>"
   ]
  },
  {
   "cell_type": "code",
   "execution_count": 25,
   "metadata": {
    "scrolled": true
   },
   "outputs": [
    {
     "name": "stdout",
     "output_type": "stream",
     "text": [
      "\n",
      "Proveedor 1 – Gorilla Megacomputing: \n",
      "\n",
      "Solicitudes atendidas:  143998\n",
      "Tiempo que cada servidor estuvo ocupado:  [57.59157982]\n",
      "Tiempo que cada servidor estuvo desocupado:  [0.]\n",
      "Tiempo total de solicitudes en cola:  174497.3374\n",
      "Tiempo promedio de cada solicitud en cola:  1.2118\n",
      "El promedio en que las solicitudes estuvieron en cola cada segundo es de:  72.70823\n",
      "El momento de salida de la ultima solicitud es:  0\n",
      "\n",
      "\n",
      "\n",
      "Proveedor 2 – Ants smart computing: \n",
      "\n",
      "Solicitudes atendidas:  144037\n",
      "Tiempo que cada servidor estuvo ocupado:  [47.91741559 43.9706165  38.41253948 32.08393344 25.37813489 18.12804177\n",
      " 11.8744051   7.05209805  3.53661435  1.6772924 ]\n",
      "Tiempo que cada servidor estuvo desocupado:  [12.09447355 16.04127264 21.59934966 27.92795569 34.63375425 41.88384736\n",
      " 48.13748404 52.95979108 56.47527479 58.33459674]\n",
      "Tiempo total de solicitudes en cola:  4285877.80462\n",
      "Tiempo promedio de cada solicitud en cola:  29.75539\n",
      "El promedio en que las solicitudes estuvieron en cola cada segundo es de:  1785.32369\n",
      "El momento de salida de la ultima solicitud es:  60.011889137423445\n",
      "\n",
      "\n"
     ]
    }
   ],
   "source": [
    "print(\"\\nProveedor 1 – Gorilla Megacomputing: \\n\")\n",
    "Arrivals, Departures, Busy, Tp, C, Running, Na, t, n_i = simulation(1, 60, 2400, 100)\n",
    "output_task1(1, Arrivals, Departures, Busy, Tp, C, Running, Na, t, n_i)\n",
    "\n",
    "print(\"\\nProveedor 2 – Ants smart computing: \\n\")\n",
    "Arrivals, Departures, Busy, Tp, C, Running, Na, t, n_i = simulation(10, 60, 2400, 600)\n",
    "output_task1(10, Arrivals, Departures, Busy, Tp, C, Running, Na, t, n_i)"
   ]
  },
  {
   "cell_type": "markdown",
   "metadata": {},
   "source": [
    "# <font color=red>Task 2 </font>\n",
    "\n",
    "Empíricamente la cantidad de servidores que se necesitan alquilar para **Ants smart computing** son ... . \n",
    "Esto debido a que ..."
   ]
  },
  {
   "cell_type": "markdown",
   "metadata": {},
   "source": [
    "# <font color=red>Task 3 y 4 </font>\n",
    "\n",
    "Teniendo 6000 solicitudes por minuto: "
   ]
  },
  {
   "cell_type": "code",
   "execution_count": null,
   "metadata": {},
   "outputs": [],
   "source": [
    "print(\"\\nProveedor 1 – Gorilla Megacomputing: \\n\")\n",
    "Arrivals, Departures, Busy, Tp, C, Running, Na, t, n_i = simulation(1, 60, 6000, 100)\n",
    "output_task1(1, Arrivals, Departures, Busy, Tp, C, Running, Na, t, n_i)\n",
    "\n",
    "print(\"\\nProveedor 2 – Ants smart computing: \\n\")\n",
    "Arrivals, Departures, Busy, Tp, C, Running, Na, t, n_i = simulation(10, 60, 6000, 600)\n",
    "output_task1(10, Arrivals, Departures, Busy, Tp, C, Running, Na, t, n_i)"
   ]
  },
  {
   "cell_type": "markdown",
   "metadata": {},
   "source": [
    "# <font color=red>Task 5 </font>\n",
    "\n",
    "**RECOMENDACIONES**\n",
    "- "
   ]
  }
 ],
 "metadata": {
  "kernelspec": {
   "display_name": "Python 3",
   "language": "python",
   "name": "python3"
  },
  "language_info": {
   "codemirror_mode": {
    "name": "ipython",
    "version": 3
   },
   "file_extension": ".py",
   "mimetype": "text/x-python",
   "name": "python",
   "nbconvert_exporter": "python",
   "pygments_lexer": "ipython3",
   "version": "3.7.2"
  }
 },
 "nbformat": 4,
 "nbformat_minor": 2
}
